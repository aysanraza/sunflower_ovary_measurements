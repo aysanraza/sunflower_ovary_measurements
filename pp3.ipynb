{
 "cells": [
  {
   "cell_type": "markdown",
   "id": "6f6b18d5-8dbf-4f3b-83a9-1b1902c44d8d",
   "metadata": {},
   "source": [
    "## Part 1: Introduction\n",
    "##### The research paper investigates how the circadian clock regulates the timing of floret development in sunflowers. The primary goal is to understand how the clock synchronizes anthesis (flower opening) to form pseudo whorls, even under varying environmental conditions such as constant light, constant darkness, or light/dark cycles. This study uses precise measurements of ovary length and positional data to explore the relationship between circadian rhythms and floral development.\n",
    "------------------------------------"
   ]
  },
  {
   "cell_type": "markdown",
   "id": "279a68a2-2f6c-460d-8d8f-7b6225ea712f",
   "metadata": {},
   "source": [
    "## Part 2: Relate research questions, data, and figures \n",
    "#### To be filled later\n",
    "------------------------------------"
   ]
  },
  {
   "cell_type": "markdown",
   "id": "b9c80468-ffe4-4d53-a1b7-fe769ce191a1",
   "metadata": {},
   "source": [
    "## Part 3: data cleaning and exploration"
   ]
  },
  {
   "cell_type": "markdown",
   "id": "e7743888-b15c-4e2c-983e-2b7529fdc554",
   "metadata": {},
   "source": [
    "### 3.1: Load and Clean Data\n",
    "##### Obtaining the Data\n",
    "1. The data files can be downloaded from the Dryad Repository for the paper https://datadryad.org/stash/dataset/doi:10.25338/B8CW5R#methods (open the link)\n",
    "2. Click on \"Marshall_030921_OvaryMeasurements_LL30-18.csv\" file and it will be downloaded into your computer.\n",
    "3. After downloading the data: Save the file in the working directory.\n",
    "4. Check: File should be named as follows: \"Marshall_030921_OvaryMeasurements_LL30-18.csv\"\n",
    "5. Run the code cell below.\n"
   ]
  },
  {
   "cell_type": "code",
   "execution_count": 45,
   "id": "59cfd43f-c577-4f6b-9fd1-e88cc729b741",
   "metadata": {
    "scrolled": true
   },
   "outputs": [
    {
     "name": "stdout",
     "output_type": "stream",
     "text": [
      "Requirement already satisfied: pandas in /home/ahsan/miniconda3/envs/dsb/lib/python3.9/site-packages (2.2.2)\n",
      "Requirement already satisfied: numpy>=1.22.4 in /home/ahsan/miniconda3/envs/dsb/lib/python3.9/site-packages (from pandas) (1.26.4)\n",
      "Requirement already satisfied: python-dateutil>=2.8.2 in /home/ahsan/miniconda3/envs/dsb/lib/python3.9/site-packages (from pandas) (2.9.0)\n",
      "Requirement already satisfied: pytz>=2020.1 in /home/ahsan/miniconda3/envs/dsb/lib/python3.9/site-packages (from pandas) (2024.2)\n",
      "Requirement already satisfied: tzdata>=2022.7 in /home/ahsan/miniconda3/envs/dsb/lib/python3.9/site-packages (from pandas) (2023.3)\n",
      "Requirement already satisfied: six>=1.5 in /home/ahsan/miniconda3/envs/dsb/lib/python3.9/site-packages (from python-dateutil>=2.8.2->pandas) (1.16.0)\n"
     ]
    }
   ],
   "source": [
    "!pip install pandas # make sure to run this code to have pandas installed in your envirnment"
   ]
  },
  {
   "cell_type": "code",
   "execution_count": 31,
   "id": "20e177f0-6f52-4a51-8a35-0ec183575011",
   "metadata": {},
   "outputs": [
    {
     "name": "stdout",
     "output_type": "stream",
     "text": [
      "Data:\n",
      "\n",
      "   Head  Parastichy Direction  Floret   ZT  Length  \\\n",
      "0     1           1        CW       1  2.5   9.947   \n",
      "1     1           1        CW       2  2.5   9.834   \n",
      "2     1           1        CW       3  2.5   9.518   \n",
      "\n",
      "                     Image Info Stage  PW  Floret.Position  \n",
      "0  LL30-18-1-26-1.jpg:1858-0500     S   2                3  \n",
      "1  LL30-18-1-26-1.jpg:1942-0486     S   2                4  \n",
      "2  LL30-18-1-26-1.jpg:2048-0435     S   2                5   \n",
      "\n"
     ]
    }
   ],
   "source": [
    "import pandas as pd\n",
    "\n",
    "# Load the data file into DataFrames\n",
    "data = pd.read_csv('Marshall_030921_OvaryMeasurements_LL30-18.csv')\n",
    "\n",
    "# Display the first few rows of DataFrame\n",
    "print(\"Data:\\n\")\n",
    "print(data.head(3), \"\\n\")"
   ]
  },
  {
   "cell_type": "markdown",
   "id": "6a628cd0-d615-4ec4-a0f3-cc77f42345a6",
   "metadata": {},
   "source": [
    "#### Imp:\n",
    "1. We are using !pip install pandas line to make sure you have pandas install\n",
    "2. We are ussing read.csv function of pandas to import file as our data is already in .csv file format"
   ]
  },
  {
   "cell_type": "code",
   "execution_count": 27,
   "id": "6f8f13ac-e1da-4458-959b-d81688f22c5a",
   "metadata": {},
   "outputs": [
    {
     "name": "stdout",
     "output_type": "stream",
     "text": [
      "Missing values in data:\n",
      " Head               0\n",
      "Parastichy         0\n",
      "Direction          0\n",
      "Floret             0\n",
      "ZT                 0\n",
      "Length             0\n",
      "Image Info         0\n",
      "Stage              0\n",
      "PW                 0\n",
      "Floret.Position    0\n",
      "dtype: int64 \n",
      "\n"
     ]
    }
   ],
   "source": [
    "# Check for missing values\n",
    "print(\"Missing values in data:\\n\", data.isnull().sum(), \"\\n\")"
   ]
  },
  {
   "cell_type": "code",
   "execution_count": 29,
   "id": "34ac9af7-b101-43f9-a388-a22aec77fb8f",
   "metadata": {},
   "outputs": [
    {
     "data": {
      "text/plain": [
       "0"
      ]
     },
     "execution_count": 29,
     "metadata": {},
     "output_type": "execute_result"
    }
   ],
   "source": [
    "# Check for duplicates\n",
    "duplicates = data.duplicated()\n",
    "duplicates.sum()"
   ]
  },
  {
   "cell_type": "markdown",
   "id": "e29cdbc9-e3e5-493b-a5cf-762f8571b898",
   "metadata": {},
   "source": [
    "##### You will see 0 for all missing values and duplicate entries, indicating no special treatment required."
   ]
  },
  {
   "cell_type": "markdown",
   "id": "0ea0557f-8f04-49da-8144-3c6a68c235f1",
   "metadata": {},
   "source": [
    "### 3.2: Describe Data Numerically"
   ]
  },
  {
   "cell_type": "code",
   "execution_count": 33,
   "id": "4d677d7a-2fb5-417c-902b-7490131cb74e",
   "metadata": {},
   "outputs": [
    {
     "name": "stdout",
     "output_type": "stream",
     "text": [
      "Data Shape: (77, 10)\n"
     ]
    }
   ],
   "source": [
    "# Display dataset shape\n",
    "print(\"Data Shape:\", data.shape)  # 77 rows, 10 columns expecting"
   ]
  },
  {
   "cell_type": "markdown",
   "id": "8d13c87f-f3df-41bf-9974-91b0ab7f9e6e",
   "metadata": {},
   "source": [
    "##### Explanation:\n",
    "1. Each row is a observations: which are measurements and characteristics of each floret in a sunflower after being exposed to a certain environmental condition.\n",
    "2. Each column represents a feature: which are variables that describe the characteristics of each floret."
   ]
  },
  {
   "cell_type": "code",
   "execution_count": 35,
   "id": "6c3e9a21-1e1e-45ed-841c-79bd713f5865",
   "metadata": {},
   "outputs": [
    {
     "name": "stdout",
     "output_type": "stream",
     "text": [
      "Length (data):\n",
      "count    77.000000\n",
      "mean      7.453078\n",
      "std       2.153881\n",
      "min       3.533000\n",
      "25%       5.266000\n",
      "50%       8.260000\n",
      "75%       9.381000\n",
      "max      10.144000\n",
      "Name: Length, dtype: float64 \n",
      "\n",
      "Floret.Position (data):\n",
      "count    77.000000\n",
      "mean      6.376623\n",
      "std       2.879323\n",
      "min       2.000000\n",
      "25%       4.000000\n",
      "50%       6.000000\n",
      "75%       9.000000\n",
      "max      12.000000\n",
      "Name: Floret.Position, dtype: float64\n"
     ]
    }
   ],
   "source": [
    "# Descriptive statistics for \"Length\" (Feature 1)\n",
    "print(\"Length (data):\")\n",
    "print(data['Length'].describe(), \"\\n\")\n",
    "\n",
    "# Descriptive statistics for \"Floret.Position\" (Feature 2)\n",
    "print(\"Floret.Position (data):\")\n",
    "print(data['Floret.Position'].describe())"
   ]
  },
  {
   "cell_type": "markdown",
   "id": "5aaac49f-44e9-4c86-8c63-b0a461996ece",
   "metadata": {},
   "source": [
    "##### Feature 1: Length\n",
    "\n",
    "1. Feature \"Length\": Quantitative feature showing ovary lengths.\n",
    "2. Expectation: All observations will have a recorded values with mean ranging around 6-9\n",
    "3. Decribe Function: All observations (77) are recorded, the mean is precicely 7.4\n",
    "##### Feature 2: Floret.Position\n",
    "\n",
    "1. Feature \"Floret.Position\": Angle of spatial arrangement of florets.\n",
    "2. Expectation: All observations will have a recorded values, Angles will be evenly distributed between 3-12\n",
    "3. Describe Function: All observations (77) are recorded, with min(2), max(12) 25%(4), 50%(6), 75%(9) indicate somewhat even distribution between 3 and 12"
   ]
  },
  {
   "cell_type": "markdown",
   "id": "f5f66854-ddbf-46d1-8525-917c0a7b9cc8",
   "metadata": {},
   "source": [
    "### 3.3: Visualizations"
   ]
  },
  {
   "cell_type": "markdown",
   "id": "aa6b7dd8-a854-41a3-996c-4af3a784d631",
   "metadata": {},
   "source": [
    "#### Purpose: \n",
    "##### The purpose of this code is to visualize the distribution of ovary lengths across different developmental stages, specifically corolla development (stage C) and stigma development (stage S). By plotting the histogram with sns.histplot, categorized by the variable Stage using the hue parameter, the code enables a clear comparison of ovary length ranges between these stages. The inclusion of a KDE curve helps to identify trends within each stage."
   ]
  },
  {
   "cell_type": "code",
   "execution_count": 43,
   "id": "652c5368-b351-4aa1-8c2a-6c45d59740c5",
   "metadata": {},
   "outputs": [
    {
     "data": {
      "text/plain": [
       "<Axes: xlabel='Length', ylabel='Count'>"
      ]
     },
     "execution_count": 43,
     "metadata": {},
     "output_type": "execute_result"
    },
    {
     "data": {
      "image/png": "[encoded data removed]",
      "text/plain": [
       "<Figure size 640x480 with 1 Axes>"
      ]
     },
     "metadata": {},
     "output_type": "display_data"
    }
   ],
   "source": [
    "import seaborn as sns\n",
    "# Seaborn histogram for ovary lengths with hue = Stage\n",
    "sns.histplot(data=data, x='Length', hue='Stage', kde=True)"
   ]
  },
  {
   "cell_type": "markdown",
   "id": "dd989f92-2a35-4d68-8636-3613382afaf0",
   "metadata": {},
   "source": [
    "#### Interpretataion: \n",
    "1. During stage C (corolla development), the ovary length predominantly ranges between 4 and 6. In contrast, during stage S (stigma development), the ovary length primarily falls within the range of 7 to 10. This pattern reflects the sequential nature of development, where corolla development precedes stigma development.\n",
    "2. The describe function state mean to be around 7 but in reality not many observations fall under the length of 7 exactly.\n",
    "3. This observation aligns with Figure 1C of the paper.\n",
    "----------------------"
   ]
  },
  {
   "cell_type": "markdown",
   "id": "4a062636-e7f7-42ed-8f21-ead21408757d",
   "metadata": {},
   "source": [
    "#### Purpose: \n",
    "##### The purpose is to generate the bar plot that visullly represent the relationship between the floret position and the overy length of the sunflower florets. By plotting the Floret.Position on the x-axis and the Length on the y-axis, we aims to explore how the length of the ovary varies across different floret positions within the sunlower head."
   ]
  },
  {
   "cell_type": "code",
   "execution_count": 44,
   "id": "7802a610-7fcd-438f-b3ef-b57c8f85bbe0",
   "metadata": {},
   "outputs": [
    {
     "data": {
      "text/plain": [
       "<Axes: xlabel='Floret.Position', ylabel='Length'>"
      ]
     },
     "execution_count": 44,
     "metadata": {},
     "output_type": "execute_result"
    },
    {
     "data": {
      "image/png": "[encoded data removed]",
      "text/plain": [
       "<Figure size 640x480 with 1 Axes>"
      ]
     },
     "metadata": {},
     "output_type": "display_data"
    }
   ],
   "source": [
    "# Seaborn bar plot for Floret Position against the Overy Length of that particular floret\n",
    "sns.barplot(data = data, x = \"Floret.Position\", y = \"Length\")"
   ]
  },
  {
   "cell_type": "markdown",
   "id": "571c4b55-6a3f-426f-8dd6-f6174e50ae0b",
   "metadata": {
    "editable": true,
    "slideshow": {
     "slide_type": ""
    },
    "tags": []
   },
   "source": [
    "#### Interpretataion: \n",
    "1. The ovary length generally decreases as the floret position increases.  This suggests that florets located towards the center of the sunflower head tend to have longer ovaries compared to those situated further out.\n",
    "2. The describe function shows floret.posistion have 50% of the observations fall below 6 posistion. The length of florets in these 50% of observations is reletevely high (around 9) compare to the actual mean length of floret at 7.4\n",
    "3. This data is also consisitant with the figure 6E of the paper.\n",
    "-------------------"
   ]
  },
  {
   "cell_type": "code",
   "execution_count": null,
   "id": "d1706f55-48ab-4b01-9eee-f824f1f0c661",
   "metadata": {},
   "outputs": [],
   "source": []
  }
 ],
 "metadata": {
  "kernelspec": {
   "display_name": "Python 3 (ipykernel)",
   "language": "python",
   "name": "python3"
  },
  "language_info": {
   "codemirror_mode": {
    "name": "ipython",
    "version": 3
   },
   "file_extension": ".py",
   "mimetype": "text/x-python",
   "name": "python",
   "nbconvert_exporter": "python",
   "pygments_lexer": "ipython3",
   "version": "3.9.18"
  }
 },
 "nbformat": 4,
 "nbformat_minor": 5
}
